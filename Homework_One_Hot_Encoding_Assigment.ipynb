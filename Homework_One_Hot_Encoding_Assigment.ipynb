{
  "nbformat": 4,
  "nbformat_minor": 0,
  "metadata": {
    "colab": {
      "name": "Homework One Hot Encoding Assigment",
      "provenance": [],
      "authorship_tag": "ABX9TyPexBc3kV+6EYFJgCIPIyF3",
      "include_colab_link": true
    },
    "kernelspec": {
      "name": "python3",
      "display_name": "Python 3"
    },
    "language_info": {
      "name": "python"
    }
  },
  "cells": [
    {
      "cell_type": "markdown",
      "metadata": {
        "id": "view-in-github",
        "colab_type": "text"
      },
      "source": [
        "<a href=\"https://colab.research.google.com/github/tak595/Math-Refresher/blob/main/Homework_One_Hot_Encoding_Assigment.ipynb\" target=\"_parent\"><img src=\"https://colab.research.google.com/assets/colab-badge.svg\" alt=\"Open In Colab\"/></a>"
      ]
    },
    {
      "cell_type": "code",
      "metadata": {
        "colab": {
          "base_uri": "https://localhost:8080/",
          "height": 142
        },
        "id": "1m652gebtHtw",
        "outputId": "32e6c9d3-80f9-407a-891a-876767c2953d"
      },
      "source": [
        "import pandas as pd\n",
        "import numpy as np\n",
        "from sklearn.preprocessing import OneHotEncoder\n",
        "from sklearn.preprocessing import LabelEncoder\n",
        "# creating an empty array\n",
        "university_towns = []\n",
        "# Open .txt file\n",
        "with open('/content/university_towns.txt') as file:\n",
        "  for line in file:\n",
        "    if '[edit]' in line:\n",
        "        # Remember this 'state' until the next is found\n",
        "        state = line\n",
        "    else:\n",
        "        #otherwise, we have a city; keep 'state' as last-seen\n",
        "        university_towns.append((state, line))\n",
        "\n",
        "#university_towns[:10]\n",
        "\n",
        "df = pd.DataFrame(university_towns, columns =['State', 'RegionName',])\n",
        "\n",
        "#towns_df['State'] = towns_df['State'].str.replace('\\[edit\\]\\\\n', '')\n",
        "#towns_df['RegionName'] = towns_df['RegionName'].str.replace('\\\\n', '')\n",
        "\n",
        "def get_citystate(item):\n",
        "  if' )' in item:\n",
        "    return item[:item.find(' )')+1]\n",
        "  elif '[' in item:\n",
        "    return item[:item.find('[')]\n",
        "  else:\n",
        "    return item\n",
        "\n",
        "df = df.applymap(get_citystate)\n",
        "df.head()\n",
        "# We want to use city and university to predict the state\n",
        "\n",
        "#add the city, university and Misc columns by spliting region name\n",
        "df[['City', 'University', 'Misc','Misc2']] = df.RegionName.str.split(\" \\(\", expand=True)\n",
        "\n",
        "df.drop(['RegionName','Misc','Misc2'], axis=1, inplace=True)\n",
        "df.head().isnull()\n",
        "\n",
        "df = df.dropna()\n",
        "\n",
        "#df.info()\n",
        "\n",
        "onehot_encoder = OneHotEncoder(sparse=False)\n",
        "\n",
        "data_column_category = df.select_dtypes(exclude=[np.number]).columns\n",
        "data_column_numeric = df.select_dtypes(include=[np.number]).columns\n",
        "\n",
        "onehot_encoded = onehot_encoder.fit_transform(df[data_column_category])\n",
        "\n",
        "onehot_encoded_frame = pd.DataFrame(onehot_encoded, columns = onehot_encoder.get_feature_names(data_column_category))\n",
        "\n",
        "#LABEL ENCODING\n",
        "\n",
        "#one method of one hot encoding\n",
        "df_onehot_get_dummies = pd.get_dummies(df[data_column_category], prefix=data_column_category)\n",
        "\n",
        "#label encoding as a step itself or as a precursor to One Hot encoding\n",
        "\n",
        "label_encoder = LabelEncoder()\n",
        "for i in data_column_category:\n",
        "\n",
        "  df[i]=label_encoder.fit_transform(df[i])\n",
        "\n",
        "towns_df[data_column_category]\n",
        "\n",
        "towns_df.head(5)"
      ],
      "execution_count": 45,
      "outputs": [
        {
          "output_type": "execute_result",
          "data": {
            "text/html": [
              "<div>\n",
              "<style scoped>\n",
              "    .dataframe tbody tr th:only-of-type {\n",
              "        vertical-align: middle;\n",
              "    }\n",
              "\n",
              "    .dataframe tbody tr th {\n",
              "        vertical-align: top;\n",
              "    }\n",
              "\n",
              "    .dataframe thead th {\n",
              "        text-align: right;\n",
              "    }\n",
              "</style>\n",
              "<table border=\"1\" class=\"dataframe\">\n",
              "  <thead>\n",
              "    <tr style=\"text-align: right;\">\n",
              "      <th></th>\n",
              "      <th>State</th>\n",
              "      <th>City</th>\n",
              "      <th>University</th>\n",
              "      <th>Misc2</th>\n",
              "    </tr>\n",
              "  </thead>\n",
              "  <tbody>\n",
              "    <tr>\n",
              "      <th>190</th>\n",
              "      <td>Massachusetts</td>\n",
              "      <td>Springfield</td>\n",
              "      <td>American International College),</td>\n",
              "      <td>Western New England College)\\n</td>\n",
              "    </tr>\n",
              "    <tr>\n",
              "      <th>265</th>\n",
              "      <td>New Jersey</td>\n",
              "      <td>Madison</td>\n",
              "      <td>Drew University),</td>\n",
              "      <td>College of Saint Elizabeth)\\n</td>\n",
              "    </tr>\n",
              "    <tr>\n",
              "      <th>266</th>\n",
              "      <td>New Jersey</td>\n",
              "      <td>Newark</td>\n",
              "      <td>Rutgers University),</td>\n",
              "      <td>UMDNJ)\\n</td>\n",
              "    </tr>\n",
              "  </tbody>\n",
              "</table>\n",
              "</div>"
            ],
            "text/plain": [
              "             State  ...                           Misc2\n",
              "190  Massachusetts  ...  Western New England College)\\n\n",
              "265     New Jersey  ...   College of Saint Elizabeth)\\n\n",
              "266     New Jersey  ...                        UMDNJ)\\n\n",
              "\n",
              "[3 rows x 4 columns]"
            ]
          },
          "metadata": {},
          "execution_count": 45
        }
      ]
    }
  ]
}