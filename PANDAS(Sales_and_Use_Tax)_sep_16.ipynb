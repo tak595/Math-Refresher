{
  "nbformat": 4,
  "nbformat_minor": 0,
  "metadata": {
    "colab": {
      "name": "PANDAS(Sales and Use Tax) sep 16",
      "provenance": [],
      "authorship_tag": "ABX9TyPgbo2lPFMgVf6DdzYck+rE",
      "include_colab_link": true
    },
    "kernelspec": {
      "name": "python3",
      "display_name": "Python 3"
    },
    "language_info": {
      "name": "python"
    }
  },
  "cells": [
    {
      "cell_type": "markdown",
      "metadata": {
        "id": "view-in-github",
        "colab_type": "text"
      },
      "source": [
        "<a href=\"https://colab.research.google.com/github/tak595/Math-Refresher/blob/main/PANDAS(Sales_and_Use_Tax)_sep_16.ipynb\" target=\"_parent\"><img src=\"https://colab.research.google.com/assets/colab-badge.svg\" alt=\"Open In Colab\"/></a>"
      ]
    },
    {
      "cell_type": "code",
      "metadata": {
        "colab": {
          "base_uri": "https://localhost:8080/"
        },
        "id": "0hr5uwohLNaI",
        "outputId": "4d010b87-1a39-4e0e-b704-cf8b08a7cc37"
      },
      "source": [
        "\n",
        "import pandas as pd\n",
        "import numpy as np\n",
        "from sklearn import linear_model as lm\n",
        "\n",
        "\n",
        "PopData = pd.read_csv('/content/HS-STAT-Population-of-Vermont-towns-1930-2019 (1).csv')\n",
        "PopData = PopData.drop(\"CTC\", axis=1)\n",
        "TaxData = pd.read_csv(\"/content/sales-and-use-tax.csv\")\n",
        "\n",
        "PopData2 = PopData.melt(id_vars=[\"NAME\"], var_name=\"Calendar Year\", value_name=\"Population\")\n",
        "\n",
        "#PopData.head()\n",
        "#PopData2.head()\n",
        "\n",
        "#TaxData.head()\n",
        "\n",
        "PopData2 = PopData2.astype({'Calendar Year': 'int64','Population': 'int32'})\n",
        "\n",
        "DATA = TaxData.merge(PopData2, left_on=[\"Town\", \"Calendar Year\"], right_on=[\"NAME\", \"Calendar Year\"], how=\"inner\") # you can changer inner to right as well\n",
        "\n",
        "#DATA.describe()\n",
        "\n",
        "xb =np.array(DATA['Retail'])\n",
        "xb = xb.reshape(-1,1)\n",
        "\n",
        "yb = np.array(DATA['Gross'])\n",
        "yb = yb.reshape(-1,1)\n",
        "\n",
        "bestModel = lm.LinearRegression().fit(xb, yb)\n",
        "bestModel.score(xb,yb)\n",
        "\n",
        "#xw =np.array(DATA['Calendar Year'])\n",
        "#xw = xw.reshape(-1,1)\n",
        "\n",
        "#yw = np.array(DATA['Gross'])\n",
        "#yw = yw.reshape(-1,1)\n",
        "\n",
        "#bestModel = lm.LinearRegression().fit(xw, yw)\n",
        "#bestModel.score(xw,yw)\n",
        "#more worst model\n",
        "\n",
        "\n",
        "\n",
        "\n",
        "\n"
      ],
      "execution_count": 15,
      "outputs": [
        {
          "output_type": "execute_result",
          "data": {
            "text/plain": [
              "0.8663761236994375"
            ]
          },
          "metadata": {},
          "execution_count": 15
        }
      ]
    }
  ]
}