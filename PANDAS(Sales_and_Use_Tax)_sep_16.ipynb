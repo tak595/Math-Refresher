{
  "nbformat": 4,
  "nbformat_minor": 0,
  "metadata": {
    "colab": {
      "name": "PANDAS(Sales and Use Tax) sep 16",
      "provenance": [],
      "authorship_tag": "ABX9TyNg24e82CXMIiK4nQIWOVgg",
      "include_colab_link": true
    },
    "kernelspec": {
      "name": "python3",
      "display_name": "Python 3"
    },
    "language_info": {
      "name": "python"
    }
  },
  "cells": [
    {
      "cell_type": "markdown",
      "metadata": {
        "id": "view-in-github",
        "colab_type": "text"
      },
      "source": [
        "<a href=\"https://colab.research.google.com/github/tak595/Math-Refresher/blob/main/PANDAS(Sales_and_Use_Tax)_sep_16.ipynb\" target=\"_parent\"><img src=\"https://colab.research.google.com/assets/colab-badge.svg\" alt=\"Open In Colab\"/></a>"
      ]
    },
    {
      "cell_type": "code",
      "metadata": {
        "colab": {
          "base_uri": "https://localhost:8080/"
        },
        "id": "0hr5uwohLNaI",
        "outputId": "13ae2988-c1b7-4c67-be2c-65a51191d4f4"
      },
      "source": [
        "import pandas as pd\n",
        "#Pandas is to store and make functional the data we're going to use\n",
        "import numpy as np\n",
        "#Sklearn is to test whether our method, Standard deviation, is working for finding the best feature()\n",
        "from sklearn import linear_model as lm\n",
        "\n",
        "#Read in data\n",
        "PopData = pd.read_csv('/content/HS-STAT-Population-of-Vermont-towns-1930-2019 (2).csv')\n",
        "TaxData = pd.read_csv(\"/content/sales-and-use-tax.csv\")\n",
        "#dropped an ID column\n",
        "PopData = PopData.drop(\"CTC\", axis=1)\n",
        "\n",
        "#Data Engineering step(s)\n",
        "#Reshaped the data to get ready for merging with the tax data\n",
        "PopData2 = PopData.melt(id_vars=[\"NAME\"], var_name=\"Calendar Year\", value_name=\"Population\")\n",
        "\n",
        "#PopData.head()\n",
        "#PopData2.head()\n",
        "\n",
        "#TaxData.head()\n",
        "\n",
        "#Changing the data type(dtype) for merging\n",
        "PopData2 = PopData2.astype({'Calendar Year': 'int64','Population': 'int32'})\n",
        "\n",
        "#Mergingdatasets into one dataset\n",
        "DATA = TaxData.merge(PopData2, left_on=[\"Town\", \"Calendar Year\"], right_on=[\"NAME\", \"Calendar Year\"], how=\"inner\") # you can change inner to right as well\n",
        "\n",
        "#DATA.describe()\n",
        "\n",
        "#Data Mining Steps - Using standard deviation\n",
        "mostImportantFeature = DATA.std().sort_values(ascending=False)[1:2]\n",
        "FeatureName = mostImportantFeature.keys()[0]\n",
        "#Feature we want to predict\n",
        "TargetFeature ='Gross'\n",
        "\n",
        "\n",
        "\n",
        "#Testing our choice from Data Mining Results\n",
        "#Setting up input array for test\n",
        "#Find most important feature, by our Data minin methodology\n",
        "xb =np.array(DATA[FeatureName])\n",
        "xb = xb.reshape(-1,1)\n",
        "yb = np.array(DATA[TargetFeature])\n",
        "yb = yb.reshape(-1,1)\n",
        "\n",
        "bestModel = lm.LinearRegression().fit(xb, yb)\n",
        "BMscore = bestModel.score(xb,yb)\n",
        "\n",
        "#Showing the bad case from Data Mining Results\n",
        "#xw =np.array(DATA['Calendar Year'])\n",
        "#xw = xw.reshape(-1,1)\n",
        "#yw = np.array(DATA['Gross'])\n",
        "#yw = yw.reshape(-1,1)\n",
        "\n",
        "#WorstModel = lm.LinearRegression().fit(xw, yw)\n",
        "#Wmscore = WorstModel.score(xw,yw)\n",
        "#more worst model\n",
        "\n",
        "DATA.std().sort_values(ascending=False)[1]\n",
        "print(BMscore)\n",
        "\n",
        "\n",
        "\n",
        "\n",
        "\n"
      ],
      "execution_count": 36,
      "outputs": [
        {
          "output_type": "stream",
          "name": "stdout",
          "text": [
            "0.8663761236994375\n"
          ]
        }
      ]
    }
  ]
}