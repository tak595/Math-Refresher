{
  "nbformat": 4,
  "nbformat_minor": 0,
  "metadata": {
    "colab": {
      "name": "Assignment2",
      "provenance": [],
      "authorship_tag": "ABX9TyNdjwOtfrOZX3XOJmN5wQO3",
      "include_colab_link": true
    },
    "kernelspec": {
      "name": "python3",
      "display_name": "Python 3"
    },
    "language_info": {
      "name": "python"
    }
  },
  "cells": [
    {
      "cell_type": "markdown",
      "metadata": {
        "id": "view-in-github",
        "colab_type": "text"
      },
      "source": [
        "<a href=\"https://colab.research.google.com/github/tak595/Math-Refresher/blob/main/Assignment2.ipynb\" target=\"_parent\"><img src=\"https://colab.research.google.com/assets/colab-badge.svg\" alt=\"Open In Colab\"/></a>"
      ]
    },
    {
      "cell_type": "code",
      "metadata": {
        "colab": {
          "base_uri": "https://localhost:8080/"
        },
        "id": "-Y2n8_r1cQ77",
        "outputId": "3d3dbbc4-b3af-40be-8768-532cf2e3c72b"
      },
      "source": [
        "# Assignment Generalizing the Tax Data Example\n",
        "# Code by Tak Traisawadvong\n",
        "# Got some help from Hayden and Wyatt\n",
        "\n",
        "import pandas as pd\n",
        "#Pandas is to store and make functional the data we're going to use\n",
        "import numpy as np\n",
        "#Sklearn is to test whether our method, Standard deviation, is working for finding the best feature()\n",
        "from sklearn import linear_model as lm\n",
        "\n",
        "#Read in data\n",
        "irisData = pd.read_csv('/content/tableconvert_csv_so70jx (1).csv')\n",
        "\n",
        "\n",
        "#dropped an ID column\n",
        "#PopData = PopData.drop(\"CTC\", axis=1)\n",
        "\n",
        "#Data Engineering step(s)\n",
        "#Reshaped the data to get ready for merging with the tax data\n",
        "#PopData2 = PopData.melt(id_vars=[\"NAME\"], var_name=\"Calendar Year\", value_name=\"Population\")\n",
        "\n",
        "#PopData.head()\n",
        "#PopData2.head()\n",
        "\n",
        "#TaxData.head()\n",
        "\n",
        "#Changing the data type(dtype) for merging\n",
        "#PopData2 = PopData2.astype({'Calendar Year': 'int64','Population': 'int32'})\n",
        "\n",
        "#Mergingdatasets into one dataset\n",
        "#DATA = TaxData.merge(PopData2, left_on=[\"Town\", \"Calendar Year\"], right_on=[\"NAME\", \"Calendar Year\"], how=\"inner\") # you can change inner to right as well\n",
        "\n",
        "#DATA.describe()\n",
        "\n",
        "#Data Mining Steps - Using standard deviation\n",
        "mostImportantFeature = irisData.std().sort_values(ascending=False)[1:2]\n",
        "featureName = mostImportantFeature.keys()[0]\n",
        "\n",
        "#Feature we want to predict\n",
        "targetFeature = 'variety'\n",
        "\n",
        "# Separate the Features and the Targets\n",
        "dataFeatures = irisData.drop(targetFeature, axis=1)\n",
        "\n",
        "# Convert Variety to a Number using a map\n",
        "uniqueIris = irisData[targetFeature]\n",
        "\n",
        "iSeries = pd.Series(uniqueIris)\n",
        "\n",
        "convertVariety = {'Setosa': 1, 'Virginica': 2, \"Versicolor\": 3}\n",
        "output = iSeries.map(convertVariety)\n",
        "\n",
        "\n",
        "#Testing our choice from Data Mining Results\n",
        "#Setting up input array for test\n",
        "#Find most important feature, by our Data minin methodology\n",
        "xb =np.array(irisData[featureName])\n",
        "xb = xb.reshape(-1,1)\n",
        "yb = np.array(output)\n",
        "yb = yb.reshape(-1,1)\n",
        "\n",
        "bestModel = lm.LinearRegression().fit(xb, yb)\n",
        "BMscore = bestModel.score(xb,yb)\n",
        "bestDataModel = dataFeatures[featureName]\n",
        "\n",
        "#Showing the bad case from Data Mining Results\n",
        "#xw =np.array(DATA['Calendar Year'])\n",
        "#xw = xw.reshape(-1,1)\n",
        "#yw = np.array(DATA['Gross'])\n",
        "#yw = yw.reshape(-1,1)\n",
        "\n",
        "#WorstModel = lm.LinearRegression().fit(xw, yw)\n",
        "#Wmscore = WorstModel.score(xw,yw)\n",
        "#more worst model\n",
        "\n",
        "#DATA.std().sort_values(ascending=False)[1]\n",
        "print(\"The Model Score: \")\n",
        "print(BMscore)\n",
        "print(bestDataModel.head(16))"
      ],
      "execution_count": 21,
      "outputs": [
        {
          "output_type": "stream",
          "name": "stdout",
          "text": [
            "The Model Score: \n",
            "0.42151495481401613\n",
            "0     1.4\n",
            "1     1.4\n",
            "2     1.3\n",
            "3     1.5\n",
            "4     1.4\n",
            "5     1.7\n",
            "6     1.4\n",
            "7     1.5\n",
            "8     1.4\n",
            "9     1.5\n",
            "10    1.5\n",
            "11    1.6\n",
            "12    1.4\n",
            "13    1.1\n",
            "14    1.2\n",
            "15    1.5\n",
            "Name: petal.length, dtype: float64\n"
          ]
        }
      ]
    }
  ]
}