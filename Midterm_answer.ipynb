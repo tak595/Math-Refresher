{
  "nbformat": 4,
  "nbformat_minor": 0,
  "metadata": {
    "colab": {
      "name": "Midterm answer",
      "provenance": [],
      "authorship_tag": "ABX9TyPNwCG+bTO7wego+v07rEUE",
      "include_colab_link": true
    },
    "kernelspec": {
      "name": "python3",
      "display_name": "Python 3"
    },
    "language_info": {
      "name": "python"
    }
  },
  "cells": [
    {
      "cell_type": "markdown",
      "metadata": {
        "id": "view-in-github",
        "colab_type": "text"
      },
      "source": [
        "<a href=\"https://colab.research.google.com/github/tak595/Math-Refresher/blob/main/Midterm_answer.ipynb\" target=\"_parent\"><img src=\"https://colab.research.google.com/assets/colab-badge.svg\" alt=\"Open In Colab\"/></a>"
      ]
    },
    {
      "cell_type": "code",
      "metadata": {
        "id": "VjirLvXPlloe"
      },
      "source": [
        "import pandas as pd\n",
        "import numpy as np\n",
        "\n",
        "df = pd.read_csv('/content/irisdata.csv')\n",
        "\n",
        "df.rename(columns={' petal_width' : 'petal_width'}, inplace=True)\n",
        "df.['petal_length'].str.replace(',','').astype('float32')\n",
        "\n",
        "df.info()\n",
        "\n",
        "df['petal_length'] = df['petal_length'].str.replace(',', '').astype('float')\n",
        "df['petal_length'] = df['petal_length'].fillna(0)\n",
        "df['species'] = df['species'].str.lower()\n",
        "\n",
        "df['species'].value_counts()\n"
      ],
      "execution_count": null,
      "outputs": []
    }
  ]
}