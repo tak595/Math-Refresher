{
  "nbformat": 4,
  "nbformat_minor": 0,
  "metadata": {
    "colab": {
      "name": "Data Cleaning 2",
      "provenance": [],
      "authorship_tag": "ABX9TyO1vOo0cQ9fSVWz3wYZwDt1",
      "include_colab_link": true
    },
    "kernelspec": {
      "name": "python3",
      "display_name": "Python 3"
    },
    "language_info": {
      "name": "python"
    }
  },
  "cells": [
    {
      "cell_type": "markdown",
      "metadata": {
        "id": "view-in-github",
        "colab_type": "text"
      },
      "source": [
        "<a href=\"https://colab.research.google.com/github/tak595/Math-Refresher/blob/main/Data_Cleaning_2.ipynb\" target=\"_parent\"><img src=\"https://colab.research.google.com/assets/colab-badge.svg\" alt=\"Open In Colab\"/></a>"
      ]
    },
    {
      "cell_type": "code",
      "metadata": {
        "colab": {
          "base_uri": "https://localhost:8080/"
        },
        "id": "TDqUCCBn6X3-",
        "outputId": "e015dfbf-23f8-4663-a9bd-2e8d26451cbb"
      },
      "source": [
        "import pandas as pd\n",
        "import numpy as np\n",
        "\n",
        "# Read in the data\n",
        "FlickrData = pd.read_csv('https://raw.githubusercontent.com/realpython/python-data-cleaning/master/Datasets/BL-Flickr-Images-Book.csv')\n",
        "\n",
        "#print(FlickrData['Edition Statement'].isna().value_counts(dropna=False)/len(FlickrData))\n",
        "#FlickrData.head()\n",
        "#FlickrData.size\n",
        "#FlickrData.tail()\n",
        "#FlickrData['Edition Statement'].value_counts(dropna=False)\n",
        "#FlickrData['Corporate Contributors'].value_counts(dropna=False)\n",
        "#FlickrData['Former owner'].value_counts(dropna=False)\n",
        "\n",
        "to_drop =['Edition Statement',\n",
        "          'Corporate Author',\n",
        "          'Corporate Contributors',\n",
        "          'Former owner',\n",
        "          'Engraver'\n",
        "          ]\n",
        "\n",
        "\n",
        "FlickrData.drop(to_drop, inplace=True, axis =1) #memory efficent (1)\n",
        "#FlickrData['Identifier'].is_unique\n",
        "#FlickrData = FlickrData.set_index('Identifier') # same thing as the one above but less efficient (2)\n",
        "#FlickrData.head()\n",
        "#FlickrData.loc[206]\n",
        "FlickrData.set_index('Identifier', inplace=True)\n",
        "#FlickrData.dtypes\n",
        "#FlickrData.loc[1905:, 'Date of Publication'].head(10)\n",
        "\n",
        "regex = r'^(\\d{4})'\n",
        "\n",
        "FlickrDataExtr = FlickrData['Date of Publication'].str.extract(regex, expand=False)\n",
        "\n",
        "# How to change a column te in a data frame\n",
        "FlickrData['Date of Publication'] = pd.to_numeric(FlickrDataExtr)\n",
        "\n",
        "#FlickrData.dtypes\n",
        "\n",
        "FlickrData['Date of Publication'].isnull().sum()/len(FlickrData)\n",
        "\n",
        "#FlickrData['Date of Publication'].std()/FlickrData['Date of Publication'].mean()\n",
        "FlickrData.head(15)\n",
        "\n",
        "#.str\n",
        "\n",
        "FlickrData_Pop = FlickrData['Place of Publication']\n",
        "\n",
        "#FlickrData_Pop.head()\n",
        "#print the percentage of images published in London\n",
        "FlickrData_Pop.str.contains('London').value_counts()/len(FlickrData_Pop)\n",
        "FlickrData['Place of Publication'].value_counts()\n",
        "#Boolean map of all entries with London or not\n",
        "london = FlickrData_Pop.str.contains('London')\n",
        "oxford = FlickrData_Pop.str.contains('Oxford')\n",
        "#Make all of the specified entry turn into the specified parameter of 'London' and 'Oxford'\n",
        "FlickrData['Place of Publication'] = np.where(london, 'London', np.where(oxford, 'Oxford', FlickrData_Pop.str.replace('-',' '))) # the second parameter is what the data going to be changed into, also the - will be changed into \" \"\n",
        "\n",
        "#FlickrData['Place of Publication'].value_counts()\n",
        "#FlickrData['Place of Publication'].head(10)\n"
      ],
      "execution_count": null,
      "outputs": [
        {
          "output_type": "execute_result",
          "data": {
            "text/plain": [
              "Identifier\n",
              "206    London\n",
              "216    London\n",
              "218    London\n",
              "472    London\n",
              "480    London\n",
              "Name: Place of Publication, dtype: object"
            ]
          },
          "metadata": {},
          "execution_count": 37
        }
      ]
    },
    {
      "cell_type": "code",
      "metadata": {
        "colab": {
          "base_uri": "https://localhost:8080/",
          "height": 375
        },
        "id": "MihFTFSjh4nD",
        "outputId": "6caa09df-2598-4219-f56e-74029a4039da"
      },
      "source": [
        "import pandas as pd\n",
        "# creating an empty array\n",
        "university_towns = []\n",
        "# Open .txt file\n",
        "with open('/content/university_towns (5).txt') as file:\n",
        "  for line in file:\n",
        "    if '[edit]' in line:\n",
        "        # Remember this 'state' until the next is found\n",
        "        state = line\n",
        "    else:\n",
        "        #otherwise, we have a city; keep 'state' as last-seen\n",
        "        university_towns.append((state, line))\n",
        "\n",
        "#university_towns[:10]\n",
        "\n",
        "towns_df = pd.DataFrame(university_towns, columns =['State', 'RegionName'])\n",
        "\n",
        "#towns_df['State'] = towns_df['State'].str.replace('\\[edit\\]\\\\n', '')\n",
        "#towns_df['RegionName'] = towns_df['RegionName'].str.replace('\\\\n', '')\n",
        "\n",
        "def get_citystate(item):\n",
        "  if' )' in item:\n",
        "    return item[:item.find(' )')+1]\n",
        "  elif '[' in item:\n",
        "    return item[:item.find('[')]\n",
        "  else:\n",
        "    return item\n",
        "\n",
        "towns_df = towns_df.applymap(get_citystate)\n",
        "towns_df.head()\n",
        "\n",
        "towns_df[['City', 'University', 'Misc']] = towns_df.RegionName.str.split(\" \\(\", expand= True)\n",
        "\n",
        "towns_df.drop(['RegionName', 'Misc'], axis=1, inplace=True)\n",
        "#towns_df.head().isnull()\n",
        "\n",
        "towns_df = towns_df.dropna()\n",
        "\n",
        "towns_df.info()\n",
        "\n",
        "oneshot_encoder = OneHotEncoder(sparse=False)\n",
        "\n",
        "onehot_encoded = onehot_encoder.fit_transform(df[data_column_category])\n",
        "\n",
        "onehot_encoded_frame = pd.DataFrame(onehot_encoded, columns = onehot_encoder.get_feature_names(data_column_category))\n",
        "\n",
        "#data_column_category = towns_df.select_dtypes(exclude=[np.number]).columns\n",
        "#data_column_numeric = towns_df.select_dtypes(include=[np.number]).columns\n",
        "\n",
        "#towns_df[data_column_category]\n",
        "\n",
        "#towns_df.head(5)\n"
      ],
      "execution_count": null,
      "outputs": [
        {
          "output_type": "error",
          "ename": "ValueError",
          "evalue": "ignored",
          "traceback": [
            "\u001b[0;31m---------------------------------------------------------------------------\u001b[0m",
            "\u001b[0;31mValueError\u001b[0m                                Traceback (most recent call last)",
            "\u001b[0;32m<ipython-input-16-152837887374>\u001b[0m in \u001b[0;36m<module>\u001b[0;34m()\u001b[0m\n\u001b[1;32m     30\u001b[0m \u001b[0mtowns_df\u001b[0m\u001b[0;34m.\u001b[0m\u001b[0mhead\u001b[0m\u001b[0;34m(\u001b[0m\u001b[0;34m)\u001b[0m\u001b[0;34m\u001b[0m\u001b[0;34m\u001b[0m\u001b[0m\n\u001b[1;32m     31\u001b[0m \u001b[0;34m\u001b[0m\u001b[0m\n\u001b[0;32m---> 32\u001b[0;31m \u001b[0mtowns_df\u001b[0m\u001b[0;34m[\u001b[0m\u001b[0;34m[\u001b[0m\u001b[0;34m'City'\u001b[0m\u001b[0;34m,\u001b[0m \u001b[0;34m'University'\u001b[0m\u001b[0;34m,\u001b[0m \u001b[0;34m'Misc'\u001b[0m\u001b[0;34m]\u001b[0m\u001b[0;34m]\u001b[0m \u001b[0;34m=\u001b[0m \u001b[0mtowns_df\u001b[0m\u001b[0;34m.\u001b[0m\u001b[0mRegionName\u001b[0m\u001b[0;34m.\u001b[0m\u001b[0mstr\u001b[0m\u001b[0;34m.\u001b[0m\u001b[0msplit\u001b[0m\u001b[0;34m(\u001b[0m\u001b[0;34m\" \\(\"\u001b[0m\u001b[0;34m,\u001b[0m \u001b[0mexpand\u001b[0m\u001b[0;34m=\u001b[0m \u001b[0;32mTrue\u001b[0m\u001b[0;34m)\u001b[0m\u001b[0;34m\u001b[0m\u001b[0;34m\u001b[0m\u001b[0m\n\u001b[0m\u001b[1;32m     33\u001b[0m \u001b[0;34m\u001b[0m\u001b[0m\n\u001b[1;32m     34\u001b[0m \u001b[0mtowns_df\u001b[0m\u001b[0;34m.\u001b[0m\u001b[0mdrop\u001b[0m\u001b[0;34m(\u001b[0m\u001b[0;34m[\u001b[0m\u001b[0;34m'RegionName'\u001b[0m\u001b[0;34m,\u001b[0m \u001b[0;34m'Misc'\u001b[0m\u001b[0;34m]\u001b[0m\u001b[0;34m,\u001b[0m \u001b[0maxis\u001b[0m\u001b[0;34m=\u001b[0m\u001b[0;36m1\u001b[0m\u001b[0;34m,\u001b[0m \u001b[0minplace\u001b[0m\u001b[0;34m=\u001b[0m\u001b[0;32mTrue\u001b[0m\u001b[0;34m)\u001b[0m\u001b[0;34m\u001b[0m\u001b[0;34m\u001b[0m\u001b[0m\n",
            "\u001b[0;32m/usr/local/lib/python3.7/dist-packages/pandas/core/frame.py\u001b[0m in \u001b[0;36m__setitem__\u001b[0;34m(self, key, value)\u001b[0m\n\u001b[1;32m   3039\u001b[0m             \u001b[0mself\u001b[0m\u001b[0;34m.\u001b[0m\u001b[0m_setitem_frame\u001b[0m\u001b[0;34m(\u001b[0m\u001b[0mkey\u001b[0m\u001b[0;34m,\u001b[0m \u001b[0mvalue\u001b[0m\u001b[0;34m)\u001b[0m\u001b[0;34m\u001b[0m\u001b[0;34m\u001b[0m\u001b[0m\n\u001b[1;32m   3040\u001b[0m         \u001b[0;32melif\u001b[0m \u001b[0misinstance\u001b[0m\u001b[0;34m(\u001b[0m\u001b[0mkey\u001b[0m\u001b[0;34m,\u001b[0m \u001b[0;34m(\u001b[0m\u001b[0mSeries\u001b[0m\u001b[0;34m,\u001b[0m \u001b[0mnp\u001b[0m\u001b[0;34m.\u001b[0m\u001b[0mndarray\u001b[0m\u001b[0;34m,\u001b[0m \u001b[0mlist\u001b[0m\u001b[0;34m,\u001b[0m \u001b[0mIndex\u001b[0m\u001b[0;34m)\u001b[0m\u001b[0;34m)\u001b[0m\u001b[0;34m:\u001b[0m\u001b[0;34m\u001b[0m\u001b[0;34m\u001b[0m\u001b[0m\n\u001b[0;32m-> 3041\u001b[0;31m             \u001b[0mself\u001b[0m\u001b[0;34m.\u001b[0m\u001b[0m_setitem_array\u001b[0m\u001b[0;34m(\u001b[0m\u001b[0mkey\u001b[0m\u001b[0;34m,\u001b[0m \u001b[0mvalue\u001b[0m\u001b[0;34m)\u001b[0m\u001b[0;34m\u001b[0m\u001b[0;34m\u001b[0m\u001b[0m\n\u001b[0m\u001b[1;32m   3042\u001b[0m         \u001b[0;32melse\u001b[0m\u001b[0;34m:\u001b[0m\u001b[0;34m\u001b[0m\u001b[0;34m\u001b[0m\u001b[0m\n\u001b[1;32m   3043\u001b[0m             \u001b[0;31m# set column\u001b[0m\u001b[0;34m\u001b[0m\u001b[0;34m\u001b[0m\u001b[0;34m\u001b[0m\u001b[0m\n",
            "\u001b[0;32m/usr/local/lib/python3.7/dist-packages/pandas/core/frame.py\u001b[0m in \u001b[0;36m_setitem_array\u001b[0;34m(self, key, value)\u001b[0m\n\u001b[1;32m   3065\u001b[0m             \u001b[0;32mif\u001b[0m \u001b[0misinstance\u001b[0m\u001b[0;34m(\u001b[0m\u001b[0mvalue\u001b[0m\u001b[0;34m,\u001b[0m \u001b[0mDataFrame\u001b[0m\u001b[0;34m)\u001b[0m\u001b[0;34m:\u001b[0m\u001b[0;34m\u001b[0m\u001b[0;34m\u001b[0m\u001b[0m\n\u001b[1;32m   3066\u001b[0m                 \u001b[0;32mif\u001b[0m \u001b[0mlen\u001b[0m\u001b[0;34m(\u001b[0m\u001b[0mvalue\u001b[0m\u001b[0;34m.\u001b[0m\u001b[0mcolumns\u001b[0m\u001b[0;34m)\u001b[0m \u001b[0;34m!=\u001b[0m \u001b[0mlen\u001b[0m\u001b[0;34m(\u001b[0m\u001b[0mkey\u001b[0m\u001b[0;34m)\u001b[0m\u001b[0;34m:\u001b[0m\u001b[0;34m\u001b[0m\u001b[0;34m\u001b[0m\u001b[0m\n\u001b[0;32m-> 3067\u001b[0;31m                     \u001b[0;32mraise\u001b[0m \u001b[0mValueError\u001b[0m\u001b[0;34m(\u001b[0m\u001b[0;34m\"Columns must be same length as key\"\u001b[0m\u001b[0;34m)\u001b[0m\u001b[0;34m\u001b[0m\u001b[0;34m\u001b[0m\u001b[0m\n\u001b[0m\u001b[1;32m   3068\u001b[0m                 \u001b[0;32mfor\u001b[0m \u001b[0mk1\u001b[0m\u001b[0;34m,\u001b[0m \u001b[0mk2\u001b[0m \u001b[0;32min\u001b[0m \u001b[0mzip\u001b[0m\u001b[0;34m(\u001b[0m\u001b[0mkey\u001b[0m\u001b[0;34m,\u001b[0m \u001b[0mvalue\u001b[0m\u001b[0;34m.\u001b[0m\u001b[0mcolumns\u001b[0m\u001b[0;34m)\u001b[0m\u001b[0;34m:\u001b[0m\u001b[0;34m\u001b[0m\u001b[0;34m\u001b[0m\u001b[0m\n\u001b[1;32m   3069\u001b[0m                     \u001b[0mself\u001b[0m\u001b[0;34m[\u001b[0m\u001b[0mk1\u001b[0m\u001b[0;34m]\u001b[0m \u001b[0;34m=\u001b[0m \u001b[0mvalue\u001b[0m\u001b[0;34m[\u001b[0m\u001b[0mk2\u001b[0m\u001b[0;34m]\u001b[0m\u001b[0;34m\u001b[0m\u001b[0;34m\u001b[0m\u001b[0m\n",
            "\u001b[0;31mValueError\u001b[0m: Columns must be same length as key"
          ]
        }
      ]
    }
  ]
}