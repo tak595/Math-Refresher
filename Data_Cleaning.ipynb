{
  "nbformat": 4,
  "nbformat_minor": 0,
  "metadata": {
    "colab": {
      "name": "Data Cleaning",
      "provenance": [],
      "authorship_tag": "ABX9TyPmkaJHZ6ALvWGNXxSk8upw",
      "include_colab_link": true
    },
    "kernelspec": {
      "name": "python3",
      "display_name": "Python 3"
    },
    "language_info": {
      "name": "python"
    }
  },
  "cells": [
    {
      "cell_type": "markdown",
      "metadata": {
        "id": "view-in-github",
        "colab_type": "text"
      },
      "source": [
        "<a href=\"https://colab.research.google.com/github/tak595/Math-Refresher/blob/main/Data_Cleaning.ipynb\" target=\"_parent\"><img src=\"https://colab.research.google.com/assets/colab-badge.svg\" alt=\"Open In Colab\"/></a>"
      ]
    },
    {
      "cell_type": "code",
      "metadata": {
        "colab": {
          "base_uri": "https://localhost:8080/"
        },
        "id": "TDqUCCBn6X3-",
        "outputId": "e015dfbf-23f8-4663-a9bd-2e8d26451cbb"
      },
      "source": [
        "import pandas as pd\n",
        "import numpy as np\n",
        "\n",
        "# Read in the data\n",
        "FlickrData = pd.read_csv('https://raw.githubusercontent.com/realpython/python-data-cleaning/master/Datasets/BL-Flickr-Images-Book.csv')\n",
        "\n",
        "#print(FlickrData['Edition Statement'].isna().value_counts(dropna=False)/len(FlickrData))\n",
        "#FlickrData.head()\n",
        "#FlickrData.size\n",
        "#FlickrData.tail()\n",
        "#FlickrData['Edition Statement'].value_counts(dropna=False)\n",
        "#FlickrData['Corporate Contributors'].value_counts(dropna=False)\n",
        "#FlickrData['Former owner'].value_counts(dropna=False)\n",
        "\n",
        "to_drop =['Edition Statement',\n",
        "          'Corporate Author',\n",
        "          'Corporate Contributors',\n",
        "          'Former owner',\n",
        "          'Engraver'\n",
        "          ]\n",
        "\n",
        "\n",
        "FlickrData.drop(to_drop, inplace=True, axis =1) #memory efficent (1)\n",
        "#FlickrData['Identifier'].is_unique\n",
        "#FlickrData = FlickrData.set_index('Identifier') # same thing as the one above but less efficient (2)\n",
        "#FlickrData.head()\n",
        "#FlickrData.loc[206]\n",
        "FlickrData.set_index('Identifier', inplace=True)\n",
        "#FlickrData.dtypes\n",
        "#FlickrData.loc[1905:, 'Date of Publication'].head(10)\n",
        "\n",
        "regex = r'^(\\d{4})'\n",
        "\n",
        "FlickrDataExtr = FlickrData['Date of Publication'].str.extract(regex, expand=False)\n",
        "\n",
        "# How to change a column te in a data frame\n",
        "FlickrData['Date of Publication'] = pd.to_numeric(FlickrDataExtr)\n",
        "\n",
        "#FlickrData.dtypes\n",
        "\n",
        "FlickrData['Date of Publication'].isnull().sum()/len(FlickrData)\n",
        "\n",
        "#FlickrData['Date of Publication'].std()/FlickrData['Date of Publication'].mean()\n",
        "FlickrData.head(15)\n",
        "\n",
        "#.str\n",
        "\n",
        "FlickrData_Pop = FlickrData['Place of Publication']\n",
        "\n",
        "#FlickrData_Pop.head()\n",
        "#print the percentage of images published in London\n",
        "FlickrData_Pop.str.contains('London').value_counts()/len(FlickrData_Pop)\n",
        "FlickrData['Place of Publication'].value_counts()\n",
        "#Boolean map of all entries with London or not\n",
        "london = FlickrData_Pop.str.contains('London')\n",
        "oxford = FlickrData_Pop.str.contains('Oxford')\n",
        "#Make all of the specified entry turn into the specified parameter of 'London' and 'Oxford'\n",
        "FlickrData['Place of Publication'] = np.where(london, 'London', np.where(oxford, 'Oxford', FlickrData_Pop.str.replace('-',' '))) # the second parameter is what the data going to be changed into, also the - will be changed into \" \"\n",
        "\n",
        "#FlickrData['Place of Publication'].value_counts()\n",
        "#FlickrData['Place of Publication'].head(10)\n"
      ],
      "execution_count": null,
      "outputs": [
        {
          "output_type": "execute_result",
          "data": {
            "text/plain": [
              "Identifier\n",
              "206    London\n",
              "216    London\n",
              "218    London\n",
              "472    London\n",
              "480    London\n",
              "Name: Place of Publication, dtype: object"
            ]
          },
          "metadata": {},
          "execution_count": 37
        }
      ]
    },
    {
      "cell_type": "code",
      "metadata": {
        "colab": {
          "base_uri": "https://localhost:8080/",
          "height": 204
        },
        "id": "MihFTFSjh4nD",
        "outputId": "daec1e2d-64e8-4f11-d053-ef09c4dc1757"
      },
      "source": [
        "import pandas as pd\n",
        "# creating an empty array\n",
        "university_towns = []\n",
        "# Open .txt file\n",
        "with open('/content/university_towns.txt') as file:\n",
        "  for line in file:\n",
        "    if '[edit]' in line:\n",
        "        # Remember this 'state' until the next is found\n",
        "        state = line\n",
        "    else:\n",
        "        #otherwise, we have a city; keep 'state' as last-seen\n",
        "        university_towns.append((state, line))\n",
        "\n",
        "#university_towns[:10]\n",
        "\n",
        "towns_df = pd.DataFrame(university_towns, columns =['State', 'RegionName'])\n",
        "\n",
        "#towns_df['State'] = towns_df['State'].str.replace('\\[edit\\]\\\\n', '')\n",
        "#towns_df['RegionName'] = towns_df['RegionName'].str.replace('\\\\n', '')\n",
        "\n",
        "def get_citystate(item):\n",
        "  if' (' in item:\n",
        "    return item[:item.find(' (')+1]\n",
        "  elif '[' in item:\n",
        "    return item[:item.find('[')]\n",
        "  else:\n",
        "    return item\n",
        "\n",
        "towns_df = towns_df.applymap(get_citystate)\n",
        "towns_df.head()"
      ],
      "execution_count": 21,
      "outputs": [
        {
          "output_type": "execute_result",
          "data": {
            "text/html": [
              "<div>\n",
              "<style scoped>\n",
              "    .dataframe tbody tr th:only-of-type {\n",
              "        vertical-align: middle;\n",
              "    }\n",
              "\n",
              "    .dataframe tbody tr th {\n",
              "        vertical-align: top;\n",
              "    }\n",
              "\n",
              "    .dataframe thead th {\n",
              "        text-align: right;\n",
              "    }\n",
              "</style>\n",
              "<table border=\"1\" class=\"dataframe\">\n",
              "  <thead>\n",
              "    <tr style=\"text-align: right;\">\n",
              "      <th></th>\n",
              "      <th>State</th>\n",
              "      <th>RegionName</th>\n",
              "    </tr>\n",
              "  </thead>\n",
              "  <tbody>\n",
              "    <tr>\n",
              "      <th>0</th>\n",
              "      <td>Alabama</td>\n",
              "      <td>Auburn</td>\n",
              "    </tr>\n",
              "    <tr>\n",
              "      <th>1</th>\n",
              "      <td>Alabama</td>\n",
              "      <td>Florence</td>\n",
              "    </tr>\n",
              "    <tr>\n",
              "      <th>2</th>\n",
              "      <td>Alabama</td>\n",
              "      <td>Jacksonville</td>\n",
              "    </tr>\n",
              "    <tr>\n",
              "      <th>3</th>\n",
              "      <td>Alabama</td>\n",
              "      <td>Livingston</td>\n",
              "    </tr>\n",
              "    <tr>\n",
              "      <th>4</th>\n",
              "      <td>Alabama</td>\n",
              "      <td>Montevallo</td>\n",
              "    </tr>\n",
              "  </tbody>\n",
              "</table>\n",
              "</div>"
            ],
            "text/plain": [
              "     State    RegionName\n",
              "0  Alabama        Auburn\n",
              "1  Alabama      Florence\n",
              "2  Alabama  Jacksonville\n",
              "3  Alabama    Livingston\n",
              "4  Alabama    Montevallo"
            ]
          },
          "metadata": {},
          "execution_count": 21
        }
      ]
    }
  ]
}