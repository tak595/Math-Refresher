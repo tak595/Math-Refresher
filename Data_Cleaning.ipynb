{
  "nbformat": 4,
  "nbformat_minor": 0,
  "metadata": {
    "colab": {
      "name": "Data Cleaning",
      "provenance": [],
      "authorship_tag": "ABX9TyOK71S1gAhVqit487htdeWb",
      "include_colab_link": true
    },
    "kernelspec": {
      "name": "python3",
      "display_name": "Python 3"
    },
    "language_info": {
      "name": "python"
    }
  },
  "cells": [
    {
      "cell_type": "markdown",
      "metadata": {
        "id": "view-in-github",
        "colab_type": "text"
      },
      "source": [
        "<a href=\"https://colab.research.google.com/github/tak595/Math-Refresher/blob/main/Data_Cleaning.ipynb\" target=\"_parent\"><img src=\"https://colab.research.google.com/assets/colab-badge.svg\" alt=\"Open In Colab\"/></a>"
      ]
    },
    {
      "cell_type": "code",
      "metadata": {
        "colab": {
          "base_uri": "https://localhost:8080/"
        },
        "id": "TDqUCCBn6X3-",
        "outputId": "99d31eaa-7f9d-436e-a250-cdee8ad70c8f"
      },
      "source": [
        "import pandas as pd\n",
        "import numpy as np\n",
        "\n",
        "FlickrData = pd.read_csv('https://raw.githubusercontent.com/realpython/python-data-cleaning/master/Datasets/BL-Flickr-Images-Book.csv')\n",
        "\n",
        "#FlickrData.head()\n",
        "#FlickrData.size\n",
        "#FlickrData.tail()\n",
        "#FlickrData['Edition Statement'].value_counts(dropna=False)\n",
        "#FlickrData['Corporate Contributors'].value_counts(dropna=False)\n",
        "#FlickrData['Former owner'].value_counts(dropna=False)\n",
        "\n",
        "to_drop =['Edition Statement',\n",
        "          'Corporate Author',\n",
        "          'Corporate Contributors',\n",
        "          'Former owner',\n",
        "          'Engraver'\n",
        "          ]\n",
        "\n",
        "FlickrData.drop(to_drop, inplace=True, axis =1)\n",
        "#FlickrData['Identifier'].is_unique\n",
        "#FlickrData = FlickrData.set_index('Identifier')\n",
        "#FlickrData.head()\n",
        "#FlickrData.loc[206]\n",
        "FlickrData.set_index('Identifier', inplace=True)\n",
        "#FlickrData.dtypes\n",
        "#FlickrData.loc[1905:, 'Date of Publication'].head(10)\n",
        "\n",
        "regex = r'^(\\d{4})'\n",
        "\n",
        "FlickrDataExtr = FlickrData['Date of Publication'].str.extract(regex, expand=False)\n",
        "\n",
        "FlickrData['Date of Publication'] = pd.to_numeric(FlickrDataExtr)\n",
        "\n",
        "#FlickrData.dtypes\n",
        "\n",
        "FlickrData['Date of Publication'].isnull().sum()/len(FlickrData)\n",
        "\n",
        "FlickrData['Date of Publication'].describe()\n",
        "\n"
      ],
      "execution_count": 40,
      "outputs": [
        {
          "output_type": "execute_result",
          "data": {
            "text/plain": [
              "count    7316.000000\n",
              "mean     1856.628759\n",
              "std        42.483954\n",
              "min      1510.000000\n",
              "25%      1842.000000\n",
              "50%      1867.000000\n",
              "75%      1886.000000\n",
              "max      1915.000000\n",
              "Name: Date of Publication, dtype: float64"
            ]
          },
          "metadata": {},
          "execution_count": 40
        }
      ]
    }
  ]
}