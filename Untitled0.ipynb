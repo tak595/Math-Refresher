{
  "nbformat": 4,
  "nbformat_minor": 0,
  "metadata": {
    "colab": {
      "name": "Untitled0.ipynb",
      "provenance": [],
      "authorship_tag": "ABX9TyNMvBRRl82yigAUiuh6ewOL",
      "include_colab_link": true
    },
    "kernelspec": {
      "name": "python3",
      "display_name": "Python 3"
    },
    "language_info": {
      "name": "python"
    }
  },
  "cells": [
    {
      "cell_type": "markdown",
      "metadata": {
        "id": "view-in-github",
        "colab_type": "text"
      },
      "source": [
        "<a href=\"https://colab.research.google.com/github/tak595/Math-Refresher/blob/main/Untitled0.ipynb\" target=\"_parent\"><img src=\"https://colab.research.google.com/assets/colab-badge.svg\" alt=\"Open In Colab\"/></a>"
      ]
    },
    {
      "cell_type": "code",
      "metadata": {
        "colab": {
          "base_uri": "https://localhost:8080/"
        },
        "id": "CgecBRXNxRzq",
        "outputId": "c60ef22b-d367-4b94-93d5-92e2cd76febd"
      },
      "source": [
        "import numpy as np\n",
        "from scipy import stats\n",
        "#here\n",
        "import matplotlib\n",
        "\n",
        "x = np.random.rand(100)\n",
        "#(1,100)\n",
        "y = np.random.rand(100)\n",
        "#(1,100)\n",
        "\n",
        "# np.mean(x)\n",
        "# np.median(x)\n",
        "# stats.mode(x)\n",
        "# np.std(x)\n",
        "# stats.median_absolute_deviation(x)\n",
        "# np.var(x)\n",
        "\n",
        "# stats.pearsonr(x,x)\n",
        "# stats.pearsonr(x,y)\n",
        "# stats.spearmanr(x,y)\n",
        "# matplotlib.pyplot.scatter(x,y)\n",
        "np.log(x,y)\n"
      ],
      "execution_count": 20,
      "outputs": [
        {
          "output_type": "execute_result",
          "data": {
            "text/plain": [
              "array([-1.58198434e+00, -5.49035333e-01, -1.26451868e-01, -7.70682681e-01,\n",
              "       -1.20910531e+00, -1.17914772e+00, -2.21102896e-01, -5.99610917e-02,\n",
              "       -1.23277481e-01, -2.05808850e-01, -2.33086860e-01, -3.02738612e-01,\n",
              "       -6.66554039e-01, -4.45309934e-01, -8.19514091e-01, -2.43831083e+00,\n",
              "       -9.02310512e-01, -3.95019762e+00, -1.46102572e-03, -7.16440160e-01,\n",
              "       -1.11830023e+00, -2.92401828e+00, -4.15024789e-01, -5.54882383e-01,\n",
              "       -5.41283198e-01, -1.17652132e-01, -5.01921721e-01, -6.77196436e-01,\n",
              "       -2.64528499e-01, -2.45694011e+00, -1.00709773e+00, -1.89021416e+00,\n",
              "       -1.68705889e-01, -1.95038126e+00, -8.40747961e-01, -6.24296426e-01,\n",
              "       -1.74807253e+00, -8.58684293e-01, -2.04550062e+00, -9.07747674e-01,\n",
              "       -4.19986288e-01, -1.16780768e+00, -7.57955099e-02, -8.12640666e-01,\n",
              "       -1.55963021e+00, -5.62466589e-01, -1.78675510e-01, -1.01629158e-01,\n",
              "       -1.40282806e+00, -1.58874092e+00, -3.15216794e-01, -8.48822831e-01,\n",
              "       -8.70383700e-01, -1.66354204e+00, -6.77256502e-01, -2.09863860e-01,\n",
              "       -6.14703599e-01, -2.02353156e+00, -1.11519993e+00, -1.27651120e+00,\n",
              "       -4.18295119e-01, -5.91835125e-01, -3.12271368e-01, -5.02359933e-01,\n",
              "       -1.15830013e+00, -6.46106760e-01, -1.12279970e+00, -4.50083291e-01,\n",
              "       -6.11510338e-02, -1.53560208e+00, -1.29975711e+00, -1.42325566e+00,\n",
              "       -5.02055990e-01, -7.48321772e-01, -4.21610754e-01, -3.80156553e-01,\n",
              "       -7.08246302e-01, -8.45461064e-01, -1.25382153e+00, -1.37604484e+00,\n",
              "       -2.25694682e+00, -2.52669444e-01, -1.78197359e-01, -6.25080440e-01,\n",
              "       -2.68303027e-01, -4.22495187e-01, -2.73254884e+00, -6.01405490e-01,\n",
              "       -1.42835374e+00, -1.02018376e+00, -4.62344826e-01, -2.02311927e-01,\n",
              "       -4.36723098e-01, -1.65347982e+00, -5.76950602e+00, -3.55413726e-01,\n",
              "       -5.58249069e-01, -1.47645935e+00, -5.77193669e-02, -1.12132801e+00])"
            ]
          },
          "metadata": {},
          "execution_count": 20
        }
      ]
    }
  ]
}