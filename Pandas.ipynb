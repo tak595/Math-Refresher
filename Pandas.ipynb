{
  "nbformat": 4,
  "nbformat_minor": 0,
  "metadata": {
    "colab": {
      "name": "Pandas",
      "provenance": [],
      "authorship_tag": "ABX9TyO7HDFRM+pqd/P9qX8Jt/7u",
      "include_colab_link": true
    },
    "kernelspec": {
      "name": "python3",
      "display_name": "Python 3"
    },
    "language_info": {
      "name": "python"
    }
  },
  "cells": [
    {
      "cell_type": "markdown",
      "metadata": {
        "id": "view-in-github",
        "colab_type": "text"
      },
      "source": [
        "<a href=\"https://colab.research.google.com/github/tak595/Math-Refresher/blob/main/Pandas.ipynb\" target=\"_parent\"><img src=\"https://colab.research.google.com/assets/colab-badge.svg\" alt=\"Open In Colab\"/></a>"
      ]
    },
    {
      "cell_type": "code",
      "metadata": {
        "colab": {
          "base_uri": "https://localhost:8080/"
        },
        "id": "yywIQopsXGiy",
        "outputId": "0cc749c7-35a9-40cb-e340-cfe6a62dbffc"
      },
      "source": [
        "import pandas\n",
        "import numpy as np\n",
        "\n",
        "irisdata = pandas.read_csv(\"tableconvert_csv_so70jx.csv\")\n",
        "#np.mean(irisdata)\n",
        "\n",
        "averages = np.mean(irisdata)\n",
        "\n",
        "# pandas.DataFrame.to_csv(\"averages\")\n",
        "\n",
        "#print(irisdata)\n",
        "print(averages)\n",
        "\n"
      ],
      "execution_count": 5,
      "outputs": [
        {
          "output_type": "stream",
          "name": "stdout",
          "text": [
            "sepal.length    5.843333\n",
            "sepal.width     3.057333\n",
            "petal.length    3.758000\n",
            "petal.width     1.199333\n",
            "dtype: float64\n"
          ]
        }
      ]
    }
  ]
}