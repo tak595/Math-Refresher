{
  "nbformat": 4,
  "nbformat_minor": 0,
  "metadata": {
    "colab": {
      "name": "Math Refresher",
      "provenance": [],
      "authorship_tag": "ABX9TyNFhu4+gMH71cWILJxMuxJX",
      "include_colab_link": true
    },
    "kernelspec": {
      "name": "python3",
      "display_name": "Python 3"
    },
    "language_info": {
      "name": "python"
    }
  },
  "cells": [
    {
      "cell_type": "markdown",
      "metadata": {
        "id": "view-in-github",
        "colab_type": "text"
      },
      "source": [
        "<a href=\"https://colab.research.google.com/github/tak595/Math-Refresher/blob/main/Math_Refresher.ipynb\" target=\"_parent\"><img src=\"https://colab.research.google.com/assets/colab-badge.svg\" alt=\"Open In Colab\"/></a>"
      ]
    },
    {
      "cell_type": "code",
      "metadata": {
        "colab": {
          "base_uri": "https://localhost:8080/"
        },
        "id": "_xBTzeTOJPTq",
        "outputId": "b0bdfa9e-ec53-4db7-d6cb-3c9f743bc0f2"
      },
      "source": [
        "import numpy as np\n",
        "from scipy import stats\n",
        "#here\n",
        "import matplotlib\n",
        "from sklearn.linear_model import LinearRegression\n",
        "\n",
        "x = np.random.rand(100)\n",
        "#(1,100)\n",
        "y = np.random.rand(100)\n",
        "#(1,100)\n",
        "\n",
        "#z = x + y\n",
        "\n",
        "# np.mean(x)\n",
        "# np.median(x)\n",
        "# stats.mode(x)\n",
        "\n",
        "#standard deviation\n",
        "# np.std(x)\n",
        "\n",
        "#Absolute deviation\n",
        "# stats.median_absolute_deviation(x)\n",
        "\n",
        "#variance\n",
        "# np.var(x)\n",
        "\n",
        "#Spearman correlation coefficient\n",
        "# stats.pearsonr(x,x)\n",
        "# stats.pearsonr(x,y)\n",
        "# stats.spearmanr(x,y)\n",
        "\n",
        "#scatter Plotting\n",
        "# matplotlib.pyplot.scatter(x,y)\n",
        "\n",
        "#Logarithemic\n",
        "#np.log(x,y)\n",
        "\n",
        "#linear Regression\n",
        "x = x.reshape(-1,1)\n",
        "reg = LinearRegression(). fit(x,y)\n",
        "reg.score(x,y)\n",
        "\n"
      ],
      "execution_count": 37,
      "outputs": [
        {
          "output_type": "execute_result",
          "data": {
            "text/plain": [
              "2.7052222907997248e-05"
            ]
          },
          "metadata": {},
          "execution_count": 37
        }
      ]
    }
  ]
}